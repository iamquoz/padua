{
 "cells": [
  {
   "cell_type": "code",
   "execution_count": 100,
   "metadata": {},
   "outputs": [],
   "source": [
    "import requests\n",
    "import json\n",
    "import os\n",
    "import pandas as pd\n",
    "\n",
    "from urllib.parse import quote_plus, unquote_plus\n",
    "from requests.utils import requote_uri\n",
    "from warcio import ArchiveIterator\n"
   ]
  },
  {
   "cell_type": "code",
   "execution_count": 23,
   "metadata": {},
   "outputs": [],
   "source": [
    "def search_ru_wiki(index_name):\n",
    "\turl = 'ru.wikipedia.org/*'\n",
    "\tencoded_url = quote_plus(url)\n",
    "\tindex_url = f'http://index.commoncrawl.org/{index_name}-index?url={encoded_url}&output=json'\n",
    "\tresponse = requests.get(index_url)\n",
    "\n",
    "\tif response.status_code == 200:\n",
    "\t\trecords = response.text.strip().split('\\n')\n",
    "\t\treturn [json.loads(record) for record in records]\n",
    "\telse:\n",
    "\t\treturn None\n"
   ]
  },
  {
   "cell_type": "code",
   "execution_count": 66,
   "metadata": {},
   "outputs": [],
   "source": [
    "results = search_ru_wiki('CC-MAIN-2024-38')\n",
    "results += search_ru_wiki('CC-MAIN-2024-33')\n",
    "results += search_ru_wiki('CC-MAIN-2024-30')\n",
    "results += search_ru_wiki('CC-MAIN-2024-26')\n",
    "results += search_ru_wiki('CC-MAIN-2024-22')"
   ]
  },
  {
   "cell_type": "code",
   "execution_count": 67,
   "metadata": {},
   "outputs": [
    {
     "data": {
      "text/plain": [
       "66298"
      ]
     },
     "execution_count": 67,
     "metadata": {},
     "output_type": "execute_result"
    }
   ],
   "source": [
    "len(results)"
   ]
  },
  {
   "cell_type": "code",
   "execution_count": 71,
   "metadata": {},
   "outputs": [
    {
     "data": {
      "text/plain": [
       "65102"
      ]
     },
     "execution_count": 71,
     "metadata": {},
     "output_type": "execute_result"
    }
   ],
   "source": [
    "unique_results = {}\n",
    "for result in results:\n",
    "\tif result['url'] not in unique_results:\n",
    "\t\tunique_results[result['url']] = result\n",
    "\n",
    "len(unique_results)"
   ]
  },
  {
   "cell_type": "code",
   "execution_count": 54,
   "metadata": {},
   "outputs": [],
   "source": [
    "def fetch_single_record(warc_record_filename, offset, length):\n",
    "\n",
    "    s3_url = f'https://data.commoncrawl.org/{warc_record_filename}'\n",
    "\n",
    "    byte_range = f'bytes={offset}-{offset + length - 1}'\n",
    "\n",
    "    response = requests.get(\n",
    "        s3_url,\n",
    "        headers={'Range': byte_range},\n",
    "        stream=True\n",
    "    )\n",
    "\n",
    "    if response.status_code == 206:\n",
    "\n",
    "        stream = ArchiveIterator(response.raw)\n",
    "        for warc_record in stream:\n",
    "            if warc_record.rec_type == 'response':\n",
    "                return warc_record.content_stream().read()\n",
    "    else:\n",
    "        print(f\"Failed to fetch data: {response.status_code}\")\n",
    "    \n",
    "    return None"
   ]
  },
  {
   "cell_type": "code",
   "execution_count": 105,
   "metadata": {},
   "outputs": [
    {
     "data": {
      "text/plain": [
       "['Перм',\n",
       " 'Пастернак',\n",
       " 'ПНИПУ',\n",
       " 'МФТИ',\n",
       " 'МГУ',\n",
       " 'Московский государственный университет',\n",
       " 'Московский физико-технический институт',\n",
       " 'Московский институт физики и технологии',\n",
       " 'Московский государственный университет имени М.В. Ломоносова',\n",
       " 'Московский государственный университет имени Михаила Васильевича Ломоносова',\n",
       " 'МГУ имени М.В. Ломоносова',\n",
       " 'МГУ имени Михаила Васильевича Ломоносова']"
      ]
     },
     "execution_count": 105,
     "metadata": {},
     "output_type": "execute_result"
    }
   ],
   "source": [
    "keywords = ['Перм', 'Пастернак', 'ПНИПУ', 'МФТИ', 'МГУ', 'Московский государственный университет', 'Московский физико-технический институт', 'Московский институт физики и технологии', 'Московский государственный университет имени М.В. Ломоносова', 'Московский государственный университет имени Михаила Васильевича Ломоносова', 'МГУ имени М.В. Ломоносова', 'МГУ имени Михаила Васильевича Ломоносова'] \n",
    "\n",
    "keywords"
   ]
  },
  {
   "cell_type": "code",
   "execution_count": 102,
   "metadata": {},
   "outputs": [
    {
     "data": {
      "text/plain": [
       "14"
      ]
     },
     "execution_count": 102,
     "metadata": {},
     "output_type": "execute_result"
    }
   ],
   "source": [
    "filtered_results = []\n",
    "for result in unique_results.values():\n",
    "\tif any(requote_uri(keyword.casefold()) in result['url'].casefold() for keyword in keywords):\n",
    "\t\tfiltered_results.append(result)\n",
    "\n",
    "len(filtered_results)\n"
   ]
  },
  {
   "cell_type": "code",
   "execution_count": 96,
   "metadata": {},
   "outputs": [],
   "source": [
    "html_results = {}"
   ]
  },
  {
   "cell_type": "code",
   "execution_count": 97,
   "metadata": {},
   "outputs": [],
   "source": [
    "for result in filtered_results:\n",
    "\trecord = fetch_single_record(result['filename'], int(result['offset']), int(result['length']))\n",
    "\tif record:\n",
    "\t\thtml_results[result['url']] = record\n"
   ]
  },
  {
   "cell_type": "code",
   "execution_count": 109,
   "metadata": {},
   "outputs": [
    {
     "name": "stdout",
     "output_type": "stream",
     "text": [
      "Статья - Административно-территориальное деление Пермского края — Википедия; URL - https://ru.wikipedia.org/wiki/Административно-территориальное_деление_Пермского_края\n",
      "Ключевое слово: Перм в статье Административно-территориальное деление Пермского края — Википедия\n",
      "\n",
      "\n",
      "\n",
      "Статья - Берёзовский район (Пермский край) — Википедия; URL - https://ru.wikipedia.org/wiki/Берёзовский_район_(Пермский_край)\n",
      "Ключевое слово: Перм в статье Берёзовский район (Пермский край) — Википедия\n",
      "\n",
      "\n",
      "\n",
      "Статья - Заслуженный профессор МГУ — Википедия; URL - https://ru.wikipedia.org/wiki/Заслуженный_профессор_МГУ\n",
      "Ключевое слово: МГУ в статье Заслуженный профессор МГУ — Википедия\n",
      "Ключевое слово: Московский государственный университет в статье Заслуженный профессор МГУ — Википедия\n",
      "\n",
      "\n",
      "\n",
      "Статья - Ильинский район (Пермский край) — Википедия; URL - https://ru.wikipedia.org/wiki/Ильинский_район_(Пермский_край)\n",
      "Ключевое слово: Перм в статье Ильинский район (Пермский край) — Википедия\n",
      "\n",
      "\n",
      "\n",
      "Статья - Историко-филологический факультет Пермского государственного университета — Википедия; URL - https://ru.wikipedia.org/wiki/Историко-филологический_факультет_ПермГУ\n",
      "Ключевое слово: Перм в статье Историко-филологический факультет Пермского государственного университета — Википедия\n",
      "Ключевое слово: МГУ в статье Историко-филологический факультет Пермского государственного университета — Википедия\n",
      "\n",
      "\n",
      "\n",
      "Статья - Александровск (Пермский край) — Википедия; URL - https://ru.wikipedia.org/wiki/Александровск_(Пермский_край)\n",
      "Ключевое слово: Перм в статье Александровск (Пермский край) — Википедия\n",
      "\n",
      "\n",
      "\n",
      "Статья - Факультет вычислительной математики и кибернетики МГУ — Википедия; URL - https://ru.wikipedia.org/wiki/ВМК_МГУ\n",
      "Ключевое слово: МГУ в статье Факультет вычислительной математики и кибернетики МГУ — Википедия\n",
      "Ключевое слово: Московский государственный университет в статье Факультет вычислительной математики и кибернетики МГУ — Википедия\n",
      "\n",
      "\n",
      "\n",
      "Статья - Барда (Пермский край) — Википедия; URL - https://ru.wikipedia.org/wiki/Барда_(Пермский_край)\n",
      "Ключевое слово: Перм в статье Барда (Пермский край) — Википедия\n",
      "\n",
      "\n",
      "\n",
      "Статья - Башня смерти (Пермь) — Википедия; URL - https://ru.wikipedia.org/wiki/Башня_смерти_(Пермь)\n",
      "Ключевое слово: Перм в статье Башня смерти (Пермь) — Википедия\n",
      "\n",
      "\n",
      "\n",
      "Статья - Губернатор Пермского края — Википедия; URL - https://ru.wikipedia.org/wiki/Губернатор_Пермского_края\n",
      "Ключевое слово: Перм в статье Губернатор Пермского края — Википедия\n",
      "\n",
      "\n",
      "\n",
      "Статья - Ельники (Пермский край) — Википедия; URL - https://ru.wikipedia.org/wiki/Ельники_(Пермский_край)\n",
      "Ключевое слово: Перм в статье Ельники (Пермский край) — Википедия\n",
      "\n",
      "\n",
      "\n",
      "Статья - Звёздный (Пермский край) — Википедия; URL - https://ru.wikipedia.org/wiki/Звёздный_(Пермский_край)\n",
      "Ключевое слово: Перм в статье Звёздный (Пермский край) — Википедия\n",
      "\n",
      "\n",
      "\n",
      "Статья - Географический факультет МГУ — Википедия; URL - https://ru.wikipedia.org/wiki/Географический_факультет_МГУ\n",
      "Ключевое слово: МГУ в статье Географический факультет МГУ — Википедия\n",
      "Ключевое слово: Московский государственный университет в статье Географический факультет МГУ — Википедия\n",
      "\n",
      "\n",
      "\n",
      "Статья - Законодательное собрание Пермского края — Википедия; URL - https://ru.wikipedia.org/wiki/Законодательное_собрание_Пермского_края\n",
      "Ключевое слово: Перм в статье Законодательное собрание Пермского края — Википедия\n",
      "\n",
      "\n",
      "\n"
     ]
    }
   ],
   "source": [
    "from bs4 import BeautifulSoup\n",
    "\n",
    "\n",
    "for url, html in html_results.items():\n",
    "\tbeautiful_soup = BeautifulSoup(html, 'html.parser')\n",
    "\tprint(f\"Статья - {beautiful_soup.title.string}; URL - {unquote_plus(url)}\")\n",
    "\n",
    "\tfor keyword in keywords:\n",
    "\t\tif keyword.casefold() in beautiful_soup.get_text().casefold():\n",
    "\t\t\tprint(f\"Ключевое слово: {keyword} в статье {beautiful_soup.title.string}\")\n",
    "\n",
    "\tprint(\"\\n\\n\")\n",
    "\n"
   ]
  }
 ],
 "metadata": {
  "kernelspec": {
   "display_name": "Python 3",
   "language": "python",
   "name": "python3"
  },
  "language_info": {
   "codemirror_mode": {
    "name": "ipython",
    "version": 3
   },
   "file_extension": ".py",
   "mimetype": "text/x-python",
   "name": "python",
   "nbconvert_exporter": "python",
   "pygments_lexer": "ipython3",
   "version": "3.12.1"
  }
 },
 "nbformat": 4,
 "nbformat_minor": 2
}
